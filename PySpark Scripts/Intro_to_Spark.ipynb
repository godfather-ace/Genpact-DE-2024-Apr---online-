{
 "cells": [
  {
   "cell_type": "markdown",
   "metadata": {},
   "source": [
    "### Installing Library"
   ]
  },
  {
   "cell_type": "code",
   "execution_count": 4,
   "metadata": {},
   "outputs": [],
   "source": [
    "#!pip install pyspark "
   ]
  },
  {
   "cell_type": "code",
   "execution_count": 1,
   "metadata": {},
   "outputs": [],
   "source": [
    "from pyspark import SparkContext, SparkConf\n",
    "from pyspark.sql import SparkSession\n",
    "sc = SparkContext()\n",
    "spark = SparkSession(sparkContext = sc)"
   ]
  },
  {
   "cell_type": "markdown",
   "metadata": {},
   "source": [
    "### RDD Object\n",
    "The class pyspark.SpartContext creates a client which connect to a Spark Cluster. This client can be used to create an RDD object. We can implement 2 methods from this class for directly creating RDD objects: parallelize() and textFile()\n"
   ]
  },
  {
   "cell_type": "markdown",
   "metadata": {},
   "source": [
    "#### parallelize()"
   ]
  },
  {
   "cell_type": "code",
   "execution_count": 2,
   "metadata": {},
   "outputs": [
    {
     "data": {
      "text/plain": [
       "[1, 2, 3]"
      ]
     },
     "execution_count": 2,
     "metadata": {},
     "output_type": "execute_result"
    }
   ],
   "source": [
    "rdd = sc.parallelize([1, 2, 3])\n",
    "rdd.collect()"
   ]
  },
  {
   "cell_type": "code",
   "execution_count": 3,
   "metadata": {},
   "outputs": [
    {
     "data": {
      "text/plain": [
       "[('megalodon', 'hammerhead', 'bullshark'), ('panther', 'leopard', 'tiger')]"
      ]
     },
     "execution_count": 3,
     "metadata": {},
     "output_type": "execute_result"
    }
   ],
   "source": [
    "list_tuple = [('megalodon', 'hammerhead', 'bullshark'), ('panther', 'leopard', 'tiger')]\n",
    "rdd = sc.parallelize(list_tuple)\n",
    "rdd.collect()"
   ]
  },
  {
   "cell_type": "code",
   "execution_count": 4,
   "metadata": {},
   "outputs": [
    {
     "data": {
      "text/plain": [
       "['A', 'B', 'C']"
      ]
     },
     "execution_count": 4,
     "metadata": {},
     "output_type": "execute_result"
    }
   ],
   "source": [
    "diction = {\n",
    "            'A': 100, \n",
    "            'B': 150, \n",
    "            'C': 200 \n",
    "}\n",
    "rdd = sc.parallelize(diction)\n",
    "rdd.collect()"
   ]
  },
  {
   "cell_type": "markdown",
   "metadata": {},
   "source": [
    "#### textFile()"
   ]
  },
  {
   "cell_type": "code",
   "execution_count": 5,
   "metadata": {},
   "outputs": [
    {
     "data": {
      "text/plain": [
       "['Toothpaste,Colgate,Oral Care,2.99,150,2025-06-30',\n",
       " 'Paper Towels,Bounty,Household Essentials,6.49,100,2024-12-31',\n",
       " 'Shampoo,Pantene,Personal Care,4.79,200,2025-09-15',\n",
       " 'Laundry Detergent,Tide,Household Essentials,9.99,120,2025-03-31',\n",
       " 'Potato Chips,Lays,Snacks,3.49,80,2024-10-15']"
      ]
     },
     "execution_count": 5,
     "metadata": {},
     "output_type": "execute_result"
    }
   ],
   "source": [
    "rdd = sc.textFile('sample_data.csv')\n",
    "rdd.take(5)"
   ]
  },
  {
   "cell_type": "markdown",
   "metadata": {},
   "source": [
    "### Dataframe Objects"
   ]
  },
  {
   "cell_type": "markdown",
   "metadata": {},
   "source": [
    "#### Reading a csv using spark.read.csv()"
   ]
  },
  {
   "cell_type": "code",
   "execution_count": 6,
   "metadata": {},
   "outputs": [],
   "source": [
    "bankchurner_data = spark.read.csv(path = 'BankChurners.csv', \n",
    "                                  sep = ',', \n",
    "                                  encoding = 'UTF-8', \n",
    "                                  comment = None, \n",
    "                                  header = True, \n",
    "                                  inferSchema = True)"
   ]
  },
  {
   "cell_type": "code",
   "execution_count": 7,
   "metadata": {},
   "outputs": [
    {
     "name": "stdout",
     "output_type": "stream",
     "text": [
      "+---------+-----------------+------------+------+---------------+---------------+--------------+---------------+-------------+--------------+------------------------+----------------------+---------------------+------------+-------------------+---------------+--------------------+---------------+--------------+-------------------+---------------------+----------------------------------------------------------------------------------------------------------------------------------+----------------------------------------------------------------------------------------------------------------------------------+\n",
      "|CLIENTNUM|Attrition_Flag   |Customer_Age|Gender|Dependent_count|Education_Level|Marital_Status|Income_Category|Card_Category|Months_on_book|Total_Relationship_Count|Months_Inactive_12_mon|Contacts_Count_12_mon|Credit_Limit|Total_Revolving_Bal|Avg_Open_To_Buy|Total_Amt_Chng_Q4_Q1|Total_Trans_Amt|Total_Trans_Ct|Total_Ct_Chng_Q4_Q1|Avg_Utilization_Ratio|Naive_Bayes_Classifier_Attrition_Flag_Card_Category_Contacts_Count_12_mon_Dependent_count_Education_Level_Months_Inactive_12_mon_1|Naive_Bayes_Classifier_Attrition_Flag_Card_Category_Contacts_Count_12_mon_Dependent_count_Education_Level_Months_Inactive_12_mon_2|\n",
      "+---------+-----------------+------------+------+---------------+---------------+--------------+---------------+-------------+--------------+------------------------+----------------------+---------------------+------------+-------------------+---------------+--------------------+---------------+--------------+-------------------+---------------------+----------------------------------------------------------------------------------------------------------------------------------+----------------------------------------------------------------------------------------------------------------------------------+\n",
      "|768805383|Existing Customer|45          |M     |3              |High School    |Married       |$60K - $80K    |Blue         |39            |5                       |1                     |3                    |12691.0     |777                |11914.0        |1.335               |1144           |42            |1.625              |0.061                |9.3448E-5                                                                                                                         |0.99991                                                                                                                           |\n",
      "|818770008|Existing Customer|49          |F     |5              |Graduate       |Single        |Less than $40K |Blue         |44            |6                       |1                     |2                    |8256.0      |864                |7392.0         |1.541               |1291           |33            |3.714              |0.105                |5.6861E-5                                                                                                                         |0.99994                                                                                                                           |\n",
      "|713982108|Existing Customer|51          |M     |3              |Graduate       |Married       |$80K - $120K   |Blue         |36            |4                       |1                     |0                    |3418.0      |0                  |3418.0         |2.594               |1887           |20            |2.333              |0.0                  |2.1081E-5                                                                                                                         |0.99998                                                                                                                           |\n",
      "|769911858|Existing Customer|40          |F     |4              |High School    |Unknown       |Less than $40K |Blue         |34            |3                       |4                     |1                    |3313.0      |2517               |796.0          |1.405               |1171           |20            |2.333              |0.76                 |1.3366E-4                                                                                                                         |0.99987                                                                                                                           |\n",
      "|709106358|Existing Customer|40          |M     |3              |Uneducated     |Married       |$60K - $80K    |Blue         |21            |5                       |1                     |0                    |4716.0      |0                  |4716.0         |2.175               |816            |28            |2.5                |0.0                  |2.1676E-5                                                                                                                         |0.99998                                                                                                                           |\n",
      "+---------+-----------------+------------+------+---------------+---------------+--------------+---------------+-------------+--------------+------------------------+----------------------+---------------------+------------+-------------------+---------------+--------------------+---------------+--------------+-------------------+---------------------+----------------------------------------------------------------------------------------------------------------------------------+----------------------------------------------------------------------------------------------------------------------------------+\n",
      "only showing top 5 rows\n",
      "\n"
     ]
    }
   ],
   "source": [
    "bankchurner_data.show(n = 5, truncate = False)"
   ]
  },
  {
   "cell_type": "markdown",
   "metadata": {},
   "source": [
    "#### Creating a Spark dataframe with createDataFrame()"
   ]
  },
  {
   "cell_type": "markdown",
   "metadata": {},
   "source": [
    "#### from an RDD"
   ]
  },
  {
   "cell_type": "code",
   "execution_count": 8,
   "metadata": {},
   "outputs": [
    {
     "data": {
      "text/plain": [
       "[Row(x=[1, 2, 3], y=['P', 'Q', 'R']),\n",
       " Row(x=[4, 5, 6], y=['U', 'V', 'W']),\n",
       " Row(x=[7, 8, 9], y=['X', 'Y', 'Z'])]"
      ]
     },
     "execution_count": 8,
     "metadata": {},
     "output_type": "execute_result"
    }
   ],
   "source": [
    "from pyspark.sql import Row\n",
    "rdd = sc.parallelize([\n",
    "    Row(x = [1, 2, 3], y = ['P', 'Q', 'R']), \n",
    "    Row(x = [4, 5, 6], y = ['U', 'V', 'W']), \n",
    "    Row(x = [7, 8, 9], y = ['X', 'Y', 'Z']), \n",
    "])\n",
    "rdd.collect()"
   ]
  },
  {
   "cell_type": "code",
   "execution_count": 9,
   "metadata": {},
   "outputs": [
    {
     "name": "stdout",
     "output_type": "stream",
     "text": [
      "+---------+---------+\n",
      "|        x|        y|\n",
      "+---------+---------+\n",
      "|[1, 2, 3]|[P, Q, R]|\n",
      "|[4, 5, 6]|[U, V, W]|\n",
      "|[7, 8, 9]|[X, Y, Z]|\n",
      "+---------+---------+\n",
      "\n"
     ]
    }
   ],
   "source": [
    "df = spark.createDataFrame(rdd)\n",
    "df.show()"
   ]
  },
  {
   "cell_type": "code",
   "execution_count": 10,
   "metadata": {},
   "outputs": [
    {
     "data": {
      "text/html": [
       "<div>\n",
       "<style scoped>\n",
       "    .dataframe tbody tr th:only-of-type {\n",
       "        vertical-align: middle;\n",
       "    }\n",
       "\n",
       "    .dataframe tbody tr th {\n",
       "        vertical-align: top;\n",
       "    }\n",
       "\n",
       "    .dataframe thead th {\n",
       "        text-align: right;\n",
       "    }\n",
       "</style>\n",
       "<table border=\"1\" class=\"dataframe\">\n",
       "  <thead>\n",
       "    <tr style=\"text-align: right;\">\n",
       "      <th></th>\n",
       "      <th>x</th>\n",
       "      <th>y</th>\n",
       "    </tr>\n",
       "  </thead>\n",
       "  <tbody>\n",
       "    <tr>\n",
       "      <th>0</th>\n",
       "      <td>[1, 2, 3]</td>\n",
       "      <td>[P, Q, R]</td>\n",
       "    </tr>\n",
       "    <tr>\n",
       "      <th>1</th>\n",
       "      <td>[4, 5, 6]</td>\n",
       "      <td>[U, V, W]</td>\n",
       "    </tr>\n",
       "    <tr>\n",
       "      <th>2</th>\n",
       "      <td>[7, 8, 9]</td>\n",
       "      <td>[X, Y, Z]</td>\n",
       "    </tr>\n",
       "  </tbody>\n",
       "</table>\n",
       "</div>"
      ],
      "text/plain": [
       "           x          y\n",
       "0  [1, 2, 3]  [P, Q, R]\n",
       "1  [4, 5, 6]  [U, V, W]\n",
       "2  [7, 8, 9]  [X, Y, Z]"
      ]
     },
     "execution_count": 10,
     "metadata": {},
     "output_type": "execute_result"
    }
   ],
   "source": [
    "import pandas as pd \n",
    "sam_df = pd.DataFrame({\n",
    "    'x': [[1, 2, 3], [4, 5, 6], [7, 8, 9]], \n",
    "    'y': [['P', 'Q', 'R'], ['U', 'V', 'W'], ['X', 'Y', 'Z']]\n",
    "})\n",
    "sam_df"
   ]
  },
  {
   "cell_type": "code",
   "execution_count": 11,
   "metadata": {},
   "outputs": [
    {
     "name": "stdout",
     "output_type": "stream",
     "text": [
      "+---------+---------+\n",
      "|        x|        y|\n",
      "+---------+---------+\n",
      "|[1, 2, 3]|[P, Q, R]|\n",
      "|[4, 5, 6]|[U, V, W]|\n",
      "|[7, 8, 9]|[X, Y, Z]|\n",
      "+---------+---------+\n",
      "\n"
     ]
    }
   ],
   "source": [
    "df = spark.createDataFrame(sam_df)\n",
    "df.show()"
   ]
  },
  {
   "cell_type": "code",
   "execution_count": 12,
   "metadata": {},
   "outputs": [
    {
     "data": {
      "text/plain": [
       "[('x', 'array<bigint>'), ('y', 'array<string>')]"
      ]
     },
     "execution_count": 12,
     "metadata": {},
     "output_type": "execute_result"
    }
   ],
   "source": [
    "df.dtypes"
   ]
  },
  {
   "cell_type": "markdown",
   "metadata": {},
   "source": [
    "#### Spark dataframe to RDD "
   ]
  },
  {
   "cell_type": "markdown",
   "metadata": {},
   "source": [
    "#### pyspark.sql.Dataframe.rdd() is used to convert Spark dataframe to RDD"
   ]
  },
  {
   "cell_type": "code",
   "execution_count": 13,
   "metadata": {},
   "outputs": [
    {
     "name": "stdout",
     "output_type": "stream",
     "text": [
      "+---------+-----------------+------------+------+---------------+---------------+--------------+---------------+-------------+--------------+------------------------+----------------------+---------------------+------------+-------------------+---------------+--------------------+---------------+--------------+-------------------+---------------------+----------------------------------------------------------------------------------------------------------------------------------+----------------------------------------------------------------------------------------------------------------------------------+\n",
      "|CLIENTNUM|   Attrition_Flag|Customer_Age|Gender|Dependent_count|Education_Level|Marital_Status|Income_Category|Card_Category|Months_on_book|Total_Relationship_Count|Months_Inactive_12_mon|Contacts_Count_12_mon|Credit_Limit|Total_Revolving_Bal|Avg_Open_To_Buy|Total_Amt_Chng_Q4_Q1|Total_Trans_Amt|Total_Trans_Ct|Total_Ct_Chng_Q4_Q1|Avg_Utilization_Ratio|Naive_Bayes_Classifier_Attrition_Flag_Card_Category_Contacts_Count_12_mon_Dependent_count_Education_Level_Months_Inactive_12_mon_1|Naive_Bayes_Classifier_Attrition_Flag_Card_Category_Contacts_Count_12_mon_Dependent_count_Education_Level_Months_Inactive_12_mon_2|\n",
      "+---------+-----------------+------------+------+---------------+---------------+--------------+---------------+-------------+--------------+------------------------+----------------------+---------------------+------------+-------------------+---------------+--------------------+---------------+--------------+-------------------+---------------------+----------------------------------------------------------------------------------------------------------------------------------+----------------------------------------------------------------------------------------------------------------------------------+\n",
      "|768805383|Existing Customer|          45|     M|              3|    High School|       Married|    $60K - $80K|         Blue|            39|                       5|                     1|                    3|     12691.0|                777|        11914.0|               1.335|           1144|            42|              1.625|                0.061|                                                                                                                         9.3448E-5|                                                                                                                           0.99991|\n",
      "|818770008|Existing Customer|          49|     F|              5|       Graduate|        Single| Less than $40K|         Blue|            44|                       6|                     1|                    2|      8256.0|                864|         7392.0|               1.541|           1291|            33|              3.714|                0.105|                                                                                                                         5.6861E-5|                                                                                                                           0.99994|\n",
      "|713982108|Existing Customer|          51|     M|              3|       Graduate|       Married|   $80K - $120K|         Blue|            36|                       4|                     1|                    0|      3418.0|                  0|         3418.0|               2.594|           1887|            20|              2.333|                  0.0|                                                                                                                         2.1081E-5|                                                                                                                           0.99998|\n",
      "|769911858|Existing Customer|          40|     F|              4|    High School|       Unknown| Less than $40K|         Blue|            34|                       3|                     4|                    1|      3313.0|               2517|          796.0|               1.405|           1171|            20|              2.333|                 0.76|                                                                                                                         1.3366E-4|                                                                                                                           0.99987|\n",
      "|709106358|Existing Customer|          40|     M|              3|     Uneducated|       Married|    $60K - $80K|         Blue|            21|                       5|                     1|                    0|      4716.0|                  0|         4716.0|               2.175|            816|            28|                2.5|                  0.0|                                                                                                                         2.1676E-5|                                                                                                                           0.99998|\n",
      "+---------+-----------------+------------+------+---------------+---------------+--------------+---------------+-------------+--------------+------------------------+----------------------+---------------------+------------+-------------------+---------------+--------------------+---------------+--------------+-------------------+---------------------+----------------------------------------------------------------------------------------------------------------------------------+----------------------------------------------------------------------------------------------------------------------------------+\n",
      "only showing top 5 rows\n",
      "\n"
     ]
    }
   ],
   "source": [
    "bankchurner_data.show(5)"
   ]
  },
  {
   "cell_type": "code",
   "execution_count": 14,
   "metadata": {},
   "outputs": [
    {
     "data": {
      "text/plain": [
       "[Row(CLIENTNUM=768805383, Attrition_Flag='Existing Customer', Customer_Age=45, Gender='M', Dependent_count=3, Education_Level='High School', Marital_Status='Married', Income_Category='$60K - $80K', Card_Category='Blue', Months_on_book=39, Total_Relationship_Count=5, Months_Inactive_12_mon=1, Contacts_Count_12_mon=3, Credit_Limit=12691.0, Total_Revolving_Bal=777, Avg_Open_To_Buy=11914.0, Total_Amt_Chng_Q4_Q1=1.335, Total_Trans_Amt=1144, Total_Trans_Ct=42, Total_Ct_Chng_Q4_Q1=1.625, Avg_Utilization_Ratio=0.061, Naive_Bayes_Classifier_Attrition_Flag_Card_Category_Contacts_Count_12_mon_Dependent_count_Education_Level_Months_Inactive_12_mon_1=9.3448e-05, Naive_Bayes_Classifier_Attrition_Flag_Card_Category_Contacts_Count_12_mon_Dependent_count_Education_Level_Months_Inactive_12_mon_2=0.99991),\n",
       " Row(CLIENTNUM=818770008, Attrition_Flag='Existing Customer', Customer_Age=49, Gender='F', Dependent_count=5, Education_Level='Graduate', Marital_Status='Single', Income_Category='Less than $40K', Card_Category='Blue', Months_on_book=44, Total_Relationship_Count=6, Months_Inactive_12_mon=1, Contacts_Count_12_mon=2, Credit_Limit=8256.0, Total_Revolving_Bal=864, Avg_Open_To_Buy=7392.0, Total_Amt_Chng_Q4_Q1=1.541, Total_Trans_Amt=1291, Total_Trans_Ct=33, Total_Ct_Chng_Q4_Q1=3.714, Avg_Utilization_Ratio=0.105, Naive_Bayes_Classifier_Attrition_Flag_Card_Category_Contacts_Count_12_mon_Dependent_count_Education_Level_Months_Inactive_12_mon_1=5.6861e-05, Naive_Bayes_Classifier_Attrition_Flag_Card_Category_Contacts_Count_12_mon_Dependent_count_Education_Level_Months_Inactive_12_mon_2=0.99994),\n",
       " Row(CLIENTNUM=713982108, Attrition_Flag='Existing Customer', Customer_Age=51, Gender='M', Dependent_count=3, Education_Level='Graduate', Marital_Status='Married', Income_Category='$80K - $120K', Card_Category='Blue', Months_on_book=36, Total_Relationship_Count=4, Months_Inactive_12_mon=1, Contacts_Count_12_mon=0, Credit_Limit=3418.0, Total_Revolving_Bal=0, Avg_Open_To_Buy=3418.0, Total_Amt_Chng_Q4_Q1=2.594, Total_Trans_Amt=1887, Total_Trans_Ct=20, Total_Ct_Chng_Q4_Q1=2.333, Avg_Utilization_Ratio=0.0, Naive_Bayes_Classifier_Attrition_Flag_Card_Category_Contacts_Count_12_mon_Dependent_count_Education_Level_Months_Inactive_12_mon_1=2.1081e-05, Naive_Bayes_Classifier_Attrition_Flag_Card_Category_Contacts_Count_12_mon_Dependent_count_Education_Level_Months_Inactive_12_mon_2=0.99998),\n",
       " Row(CLIENTNUM=769911858, Attrition_Flag='Existing Customer', Customer_Age=40, Gender='F', Dependent_count=4, Education_Level='High School', Marital_Status='Unknown', Income_Category='Less than $40K', Card_Category='Blue', Months_on_book=34, Total_Relationship_Count=3, Months_Inactive_12_mon=4, Contacts_Count_12_mon=1, Credit_Limit=3313.0, Total_Revolving_Bal=2517, Avg_Open_To_Buy=796.0, Total_Amt_Chng_Q4_Q1=1.405, Total_Trans_Amt=1171, Total_Trans_Ct=20, Total_Ct_Chng_Q4_Q1=2.333, Avg_Utilization_Ratio=0.76, Naive_Bayes_Classifier_Attrition_Flag_Card_Category_Contacts_Count_12_mon_Dependent_count_Education_Level_Months_Inactive_12_mon_1=0.00013366, Naive_Bayes_Classifier_Attrition_Flag_Card_Category_Contacts_Count_12_mon_Dependent_count_Education_Level_Months_Inactive_12_mon_2=0.99987),\n",
       " Row(CLIENTNUM=709106358, Attrition_Flag='Existing Customer', Customer_Age=40, Gender='M', Dependent_count=3, Education_Level='Uneducated', Marital_Status='Married', Income_Category='$60K - $80K', Card_Category='Blue', Months_on_book=21, Total_Relationship_Count=5, Months_Inactive_12_mon=1, Contacts_Count_12_mon=0, Credit_Limit=4716.0, Total_Revolving_Bal=0, Avg_Open_To_Buy=4716.0, Total_Amt_Chng_Q4_Q1=2.175, Total_Trans_Amt=816, Total_Trans_Ct=28, Total_Ct_Chng_Q4_Q1=2.5, Avg_Utilization_Ratio=0.0, Naive_Bayes_Classifier_Attrition_Flag_Card_Category_Contacts_Count_12_mon_Dependent_count_Education_Level_Months_Inactive_12_mon_1=2.1676e-05, Naive_Bayes_Classifier_Attrition_Flag_Card_Category_Contacts_Count_12_mon_Dependent_count_Education_Level_Months_Inactive_12_mon_2=0.99998)]"
      ]
     },
     "execution_count": 14,
     "metadata": {},
     "output_type": "execute_result"
    }
   ],
   "source": [
    "bankchurner_data.rdd.take(5)"
   ]
  },
  {
   "cell_type": "markdown",
   "metadata": {},
   "source": [
    "#### With an RDD object, we can apply mapping functions - map, mapValues, flatMap, flatMapValues "
   ]
  },
  {
   "cell_type": "code",
   "execution_count": 15,
   "metadata": {},
   "outputs": [
    {
     "data": {
      "text/plain": [
       "[('M', 'Married', 12691.0),\n",
       " ('F', 'Single', 8256.0),\n",
       " ('M', 'Married', 3418.0),\n",
       " ('F', 'Unknown', 3313.0),\n",
       " ('M', 'Married', 4716.0)]"
      ]
     },
     "execution_count": 15,
     "metadata": {},
     "output_type": "execute_result"
    }
   ],
   "source": [
    "bankchurner_data_map = bankchurner_data.rdd.map(lambda x: (x['Gender'], x['Marital_Status'], x['Credit_Limit']))\n",
    "bankchurner_data_map.take(5)"
   ]
  },
  {
   "cell_type": "code",
   "execution_count": 23,
   "metadata": {},
   "outputs": [
    {
     "data": {
      "text/plain": [
       "[(768805383, 12691.0),\n",
       " (818770008, 8256.0),\n",
       " (713982108, 3418.0),\n",
       " (769911858, 3313.0),\n",
       " (709106358, 4716.0)]"
      ]
     },
     "execution_count": 23,
     "metadata": {},
     "output_type": "execute_result"
    }
   ],
   "source": [
    "map_bankchurner_data = bankchurner_data.rdd.map(lambda x: (x[0], x[13]))\n",
    "map_bankchurner_data.take(5)"
   ]
  },
  {
   "cell_type": "code",
   "execution_count": 24,
   "metadata": {},
   "outputs": [
    {
     "data": {
      "text/plain": [
       "['\"CLIENTNUM\",\"Attrition_Flag\",\"Customer_Age\",\"Gender\",\"Dependent_count\",\"Education_Level\",\"Marital_Status\",\"Income_Category\",\"Card_Category\",\"Months_on_book\",\"Total_Relationship_Count\",\"Months_Inactive_12_mon\",\"Contacts_Count_12_mon\",\"Credit_Limit\",\"Total_Revolving_Bal\",\"Avg_Open_To_Buy\",\"Total_Amt_Chng_Q4_Q1\",\"Total_Trans_Amt\",\"Total_Trans_Ct\",\"Total_Ct_Chng_Q4_Q1\",\"Avg_Utilization_Ratio\",\"Naive_Bayes_Classifier_Attrition_Flag_Card_Category_Contacts_Count_12_mon_Dependent_count_Education_Level_Months_Inactive_12_mon_1\",\"Naive_Bayes_Classifier_Attrition_Flag_Card_Category_Contacts_Count_12_mon_Dependent_count_Education_Level_Months_Inactive_12_mon_2\"',\n",
       " '768805383,\"Existing Customer\",45,\"M\",3,\"High School\",\"Married\",\"$60K - $80K\",\"Blue\",39,5,1,3,12691,777,11914,1.335,1144,42,1.625,0.061,9.3448e-05,0.99991',\n",
       " '818770008,\"Existing Customer\",49,\"F\",5,\"Graduate\",\"Single\",\"Less than $40K\",\"Blue\",44,6,1,2,8256,864,7392,1.541,1291,33,3.714,0.105,5.6861e-05,0.99994',\n",
       " '713982108,\"Existing Customer\",51,\"M\",3,\"Graduate\",\"Married\",\"$80K - $120K\",\"Blue\",36,4,1,0,3418,0,3418,2.594,1887,20,2.333,0,2.1081e-05,0.99998',\n",
       " '769911858,\"Existing Customer\",40,\"F\",4,\"High School\",\"Unknown\",\"Less than $40K\",\"Blue\",34,3,4,1,3313,2517,796,1.405,1171,20,2.333,0.76,0.00013366,0.99987']"
      ]
     },
     "execution_count": 24,
     "metadata": {},
     "output_type": "execute_result"
    }
   ],
   "source": [
    "bankchurner_data2 = sc.textFile('BankChurners.csv')\n",
    "bankchurner_data2.take(5)"
   ]
  },
  {
   "cell_type": "code",
   "execution_count": 26,
   "metadata": {},
   "outputs": [
    {
     "data": {
      "text/plain": [
       "[('\"CLIENTNUM\"',\n",
       "  ['\"Attrition_Flag\"',\n",
       "   '\"Customer_Age\"',\n",
       "   '\"Gender\"',\n",
       "   '\"Dependent_count\"',\n",
       "   '\"Education_Level\"',\n",
       "   '\"Marital_Status\"',\n",
       "   '\"Income_Category\"',\n",
       "   '\"Card_Category\"',\n",
       "   '\"Months_on_book\"',\n",
       "   '\"Total_Relationship_Count\"',\n",
       "   '\"Months_Inactive_12_mon\"',\n",
       "   '\"Contacts_Count_12_mon\"',\n",
       "   '\"Credit_Limit\"',\n",
       "   '\"Total_Revolving_Bal\"',\n",
       "   '\"Avg_Open_To_Buy\"',\n",
       "   '\"Total_Amt_Chng_Q4_Q1\"',\n",
       "   '\"Total_Trans_Amt\"',\n",
       "   '\"Total_Trans_Ct\"',\n",
       "   '\"Total_Ct_Chng_Q4_Q1\"',\n",
       "   '\"Avg_Utilization_Ratio\"',\n",
       "   '\"Naive_Bayes_Classifier_Attrition_Flag_Card_Category_Contacts_Count_12_mon_Dependent_count_Education_Level_Months_Inactive_12_mon_1\"',\n",
       "   '\"Naive_Bayes_Classifier_Attrition_Flag_Card_Category_Contacts_Count_12_mon_Dependent_count_Education_Level_Months_Inactive_12_mon_2\"']),\n",
       " ('768805383',\n",
       "  ['\"Existing Customer\"',\n",
       "   '45',\n",
       "   '\"M\"',\n",
       "   '3',\n",
       "   '\"High School\"',\n",
       "   '\"Married\"',\n",
       "   '\"$60K - $80K\"',\n",
       "   '\"Blue\"',\n",
       "   '39',\n",
       "   '5',\n",
       "   '1',\n",
       "   '3',\n",
       "   '12691',\n",
       "   '777',\n",
       "   '11914',\n",
       "   '1.335',\n",
       "   '1144',\n",
       "   '42',\n",
       "   '1.625',\n",
       "   '0.061',\n",
       "   '9.3448e-05',\n",
       "   '0.99991']),\n",
       " ('818770008',\n",
       "  ['\"Existing Customer\"',\n",
       "   '49',\n",
       "   '\"F\"',\n",
       "   '5',\n",
       "   '\"Graduate\"',\n",
       "   '\"Single\"',\n",
       "   '\"Less than $40K\"',\n",
       "   '\"Blue\"',\n",
       "   '44',\n",
       "   '6',\n",
       "   '1',\n",
       "   '2',\n",
       "   '8256',\n",
       "   '864',\n",
       "   '7392',\n",
       "   '1.541',\n",
       "   '1291',\n",
       "   '33',\n",
       "   '3.714',\n",
       "   '0.105',\n",
       "   '5.6861e-05',\n",
       "   '0.99994']),\n",
       " ('713982108',\n",
       "  ['\"Existing Customer\"',\n",
       "   '51',\n",
       "   '\"M\"',\n",
       "   '3',\n",
       "   '\"Graduate\"',\n",
       "   '\"Married\"',\n",
       "   '\"$80K - $120K\"',\n",
       "   '\"Blue\"',\n",
       "   '36',\n",
       "   '4',\n",
       "   '1',\n",
       "   '0',\n",
       "   '3418',\n",
       "   '0',\n",
       "   '3418',\n",
       "   '2.594',\n",
       "   '1887',\n",
       "   '20',\n",
       "   '2.333',\n",
       "   '0',\n",
       "   '2.1081e-05',\n",
       "   '0.99998']),\n",
       " ('769911858',\n",
       "  ['\"Existing Customer\"',\n",
       "   '40',\n",
       "   '\"F\"',\n",
       "   '4',\n",
       "   '\"High School\"',\n",
       "   '\"Unknown\"',\n",
       "   '\"Less than $40K\"',\n",
       "   '\"Blue\"',\n",
       "   '34',\n",
       "   '3',\n",
       "   '4',\n",
       "   '1',\n",
       "   '3313',\n",
       "   '2517',\n",
       "   '796',\n",
       "   '1.405',\n",
       "   '1171',\n",
       "   '20',\n",
       "   '2.333',\n",
       "   '0.76',\n",
       "   '0.00013366',\n",
       "   '0.99987'])]"
      ]
     },
     "execution_count": 26,
     "metadata": {},
     "output_type": "execute_result"
    }
   ],
   "source": [
    "map_bankchurner_data2_rdd_1 = bankchurner_data2.map(lambda x: x.split(',')).map(lambda x: (x[0], x[1:]))\n",
    "map_bankchurner_data2_rdd_1.take(5)"
   ]
  },
  {
   "cell_type": "code",
   "execution_count": 28,
   "metadata": {},
   "outputs": [
    {
     "data": {
      "text/plain": [
       "[('768805383',\n",
       "  ['\"Existing Customer\"',\n",
       "   '45',\n",
       "   '\"M\"',\n",
       "   '3',\n",
       "   '\"High School\"',\n",
       "   '\"Married\"',\n",
       "   '\"$60K - $80K\"',\n",
       "   '\"Blue\"',\n",
       "   '39',\n",
       "   '5',\n",
       "   '1',\n",
       "   '3',\n",
       "   '12691',\n",
       "   '777',\n",
       "   '11914',\n",
       "   '1.335',\n",
       "   '1144',\n",
       "   '42',\n",
       "   '1.625',\n",
       "   '0.061',\n",
       "   '9.3448e-05',\n",
       "   '0.99991']),\n",
       " ('818770008',\n",
       "  ['\"Existing Customer\"',\n",
       "   '49',\n",
       "   '\"F\"',\n",
       "   '5',\n",
       "   '\"Graduate\"',\n",
       "   '\"Single\"',\n",
       "   '\"Less than $40K\"',\n",
       "   '\"Blue\"',\n",
       "   '44',\n",
       "   '6',\n",
       "   '1',\n",
       "   '2',\n",
       "   '8256',\n",
       "   '864',\n",
       "   '7392',\n",
       "   '1.541',\n",
       "   '1291',\n",
       "   '33',\n",
       "   '3.714',\n",
       "   '0.105',\n",
       "   '5.6861e-05',\n",
       "   '0.99994']),\n",
       " ('713982108',\n",
       "  ['\"Existing Customer\"',\n",
       "   '51',\n",
       "   '\"M\"',\n",
       "   '3',\n",
       "   '\"Graduate\"',\n",
       "   '\"Married\"',\n",
       "   '\"$80K - $120K\"',\n",
       "   '\"Blue\"',\n",
       "   '36',\n",
       "   '4',\n",
       "   '1',\n",
       "   '0',\n",
       "   '3418',\n",
       "   '0',\n",
       "   '3418',\n",
       "   '2.594',\n",
       "   '1887',\n",
       "   '20',\n",
       "   '2.333',\n",
       "   '0',\n",
       "   '2.1081e-05',\n",
       "   '0.99998']),\n",
       " ('769911858',\n",
       "  ['\"Existing Customer\"',\n",
       "   '40',\n",
       "   '\"F\"',\n",
       "   '4',\n",
       "   '\"High School\"',\n",
       "   '\"Unknown\"',\n",
       "   '\"Less than $40K\"',\n",
       "   '\"Blue\"',\n",
       "   '34',\n",
       "   '3',\n",
       "   '4',\n",
       "   '1',\n",
       "   '3313',\n",
       "   '2517',\n",
       "   '796',\n",
       "   '1.405',\n",
       "   '1171',\n",
       "   '20',\n",
       "   '2.333',\n",
       "   '0.76',\n",
       "   '0.00013366',\n",
       "   '0.99987']),\n",
       " ('709106358',\n",
       "  ['\"Existing Customer\"',\n",
       "   '40',\n",
       "   '\"M\"',\n",
       "   '3',\n",
       "   '\"Uneducated\"',\n",
       "   '\"Married\"',\n",
       "   '\"$60K - $80K\"',\n",
       "   '\"Blue\"',\n",
       "   '21',\n",
       "   '5',\n",
       "   '1',\n",
       "   '0',\n",
       "   '4716',\n",
       "   '0',\n",
       "   '4716',\n",
       "   '2.175',\n",
       "   '816',\n",
       "   '28',\n",
       "   '2.5',\n",
       "   '0',\n",
       "   '2.1676e-05',\n",
       "   '0.99998'])]"
      ]
     },
     "execution_count": 28,
     "metadata": {},
     "output_type": "execute_result"
    }
   ],
   "source": [
    "# removing the header row\n",
    "header = map_bankchurner_data2_rdd_1.first()\n",
    "# filtering rows not equal to header values\n",
    "map_bankchurner_data2_rdd_2 = map_bankchurner_data2_rdd_1.filter(lambda x: x != header)\n",
    "map_bankchurner_data2_rdd_2.take(5)"
   ]
  },
  {
   "cell_type": "code",
   "execution_count": 42,
   "metadata": {},
   "outputs": [
    {
     "data": {
      "text/plain": [
       "[('768805383',\n",
       "  ['\"Existing Customer\"',\n",
       "   '45',\n",
       "   '\"M\"',\n",
       "   '3',\n",
       "   '\"High School\"',\n",
       "   '\"Married\"',\n",
       "   '\"$60K - $80K\"',\n",
       "   '\"Blue\"',\n",
       "   '39',\n",
       "   '5',\n",
       "   '1',\n",
       "   '3',\n",
       "   '12691',\n",
       "   '777',\n",
       "   '11914',\n",
       "   '1.335',\n",
       "   '1144',\n",
       "   '42',\n",
       "   '1.625',\n",
       "   '0.061',\n",
       "   '9.3448e-05',\n",
       "   '0.99991']),\n",
       " ('818770008',\n",
       "  ['\"Existing Customer\"',\n",
       "   '49',\n",
       "   '\"F\"',\n",
       "   '5',\n",
       "   '\"Graduate\"',\n",
       "   '\"Single\"',\n",
       "   '\"Less than $40K\"',\n",
       "   '\"Blue\"',\n",
       "   '44',\n",
       "   '6',\n",
       "   '1',\n",
       "   '2',\n",
       "   '8256',\n",
       "   '864',\n",
       "   '7392',\n",
       "   '1.541',\n",
       "   '1291',\n",
       "   '33',\n",
       "   '3.714',\n",
       "   '0.105',\n",
       "   '5.6861e-05',\n",
       "   '0.99994']),\n",
       " ('713982108',\n",
       "  ['\"Existing Customer\"',\n",
       "   '51',\n",
       "   '\"M\"',\n",
       "   '3',\n",
       "   '\"Graduate\"',\n",
       "   '\"Married\"',\n",
       "   '\"$80K - $120K\"',\n",
       "   '\"Blue\"',\n",
       "   '36',\n",
       "   '4',\n",
       "   '1',\n",
       "   '0',\n",
       "   '3418',\n",
       "   '0',\n",
       "   '3418',\n",
       "   '2.594',\n",
       "   '1887',\n",
       "   '20',\n",
       "   '2.333',\n",
       "   '0',\n",
       "   '2.1081e-05',\n",
       "   '0.99998']),\n",
       " ('769911858',\n",
       "  ['\"Existing Customer\"',\n",
       "   '40',\n",
       "   '\"F\"',\n",
       "   '4',\n",
       "   '\"High School\"',\n",
       "   '\"Unknown\"',\n",
       "   '\"Less than $40K\"',\n",
       "   '\"Blue\"',\n",
       "   '34',\n",
       "   '3',\n",
       "   '4',\n",
       "   '1',\n",
       "   '3313',\n",
       "   '2517',\n",
       "   '796',\n",
       "   '1.405',\n",
       "   '1171',\n",
       "   '20',\n",
       "   '2.333',\n",
       "   '0.76',\n",
       "   '0.00013366',\n",
       "   '0.99987']),\n",
       " ('709106358',\n",
       "  ['\"Existing Customer\"',\n",
       "   '40',\n",
       "   '\"M\"',\n",
       "   '3',\n",
       "   '\"Uneducated\"',\n",
       "   '\"Married\"',\n",
       "   '\"$60K - $80K\"',\n",
       "   '\"Blue\"',\n",
       "   '21',\n",
       "   '5',\n",
       "   '1',\n",
       "   '0',\n",
       "   '4716',\n",
       "   '0',\n",
       "   '4716',\n",
       "   '2.175',\n",
       "   '816',\n",
       "   '28',\n",
       "   '2.5',\n",
       "   '0',\n",
       "   '2.1676e-05',\n",
       "   '0.99998'])]"
      ]
     },
     "execution_count": 42,
     "metadata": {},
     "output_type": "execute_result"
    }
   ],
   "source": [
    "map_bankchurner_data2_rdd_3 = map_bankchurner_data2_rdd_2.filter(lambda x: len(x))\n",
    "map_bankchurner_data2_rdd_3.take(5)"
   ]
  },
  {
   "cell_type": "markdown",
   "metadata": {},
   "source": [
    "#### flatMap function"
   ]
  },
  {
   "cell_type": "code",
   "execution_count": 38,
   "metadata": {},
   "outputs": [
    {
     "data": {
      "text/plain": [
       "[('a', 'b', 'c'), ('a', 'a'), ('c', 'c', 'c', 'd', 'a')]"
      ]
     },
     "execution_count": 38,
     "metadata": {},
     "output_type": "execute_result"
    }
   ],
   "source": [
    "x = [('a', 'b', 'c'), ('a', 'a'), ('c', 'c', 'c', 'd', 'a')]\n",
    "flatmapt_exp_rdd = sc.parallelize(x)\n",
    "flatmapt_exp_rdd.collect()"
   ]
  },
  {
   "cell_type": "code",
   "execution_count": 39,
   "metadata": {},
   "outputs": [
    {
     "data": {
      "text/plain": [
       "['a', 'b', 'c', 'a', 'a', 'c', 'c', 'c', 'd', 'a']"
      ]
     },
     "execution_count": 39,
     "metadata": {},
     "output_type": "execute_result"
    }
   ],
   "source": [
    "flatmapt_exp_rdd_1 = flatmapt_exp_rdd.flatMap(lambda x: x)\n",
    "flatmapt_exp_rdd_1.collect()"
   ]
  },
  {
   "cell_type": "markdown",
   "metadata": {},
   "source": [
    "#### flatMapValues function"
   ]
  },
  {
   "cell_type": "code",
   "execution_count": 44,
   "metadata": {},
   "outputs": [
    {
     "data": {
      "text/plain": [
       "[[1, (105, 107, 109)], [2, (205, 207, 209)], [3, (305, 307, 309)]]"
      ]
     },
     "execution_count": 44,
     "metadata": {},
     "output_type": "execute_result"
    }
   ],
   "source": [
    "data = [[1, (105, 107, 109)], \n",
    "        [2, (205, 207, 209)], \n",
    "        [3, (305, 307, 309)]]\n",
    "\n",
    "fmv_rdd_1 = sc.parallelize(data)\n",
    "fmv_rdd_1.collect()"
   ]
  },
  {
   "cell_type": "code",
   "execution_count": 45,
   "metadata": {},
   "outputs": [
    {
     "data": {
      "text/plain": [
       "[(1, ('A', 105)),\n",
       " (1, ('B', 107)),\n",
       " (1, ('C', 109)),\n",
       " (2, ('A', 205)),\n",
       " (2, ('B', 207)),\n",
       " (2, ('C', 209)),\n",
       " (3, ('A', 305)),\n",
       " (3, ('B', 307)),\n",
       " (3, ('C', 309))]"
      ]
     },
     "execution_count": 45,
     "metadata": {},
     "output_type": "execute_result"
    }
   ],
   "source": [
    "fmv_rdd_2 = fmv_rdd_1.flatMapValues(lambda x: list(zip(list('ABC'), x)))\n",
    "fmv_rdd_2.collect()"
   ]
  },
  {
   "cell_type": "code",
   "execution_count": 46,
   "metadata": {},
   "outputs": [
    {
     "data": {
      "text/plain": [
       "[[1, 'A', 105],\n",
       " [1, 'B', 107],\n",
       " [1, 'C', 109],\n",
       " [2, 'A', 205],\n",
       " [2, 'B', 207],\n",
       " [2, 'C', 209],\n",
       " [3, 'A', 305],\n",
       " [3, 'B', 307],\n",
       " [3, 'C', 309]]"
      ]
     },
     "execution_count": 46,
     "metadata": {},
     "output_type": "execute_result"
    }
   ],
   "source": [
    "# unpacking the element values\n",
    "fmv_rdd_3 = fmv_rdd_2.map(lambda x: [x[0]] + list(x[1]))\n",
    "fmv_rdd_3.collect()"
   ]
  },
  {
   "cell_type": "code",
   "execution_count": null,
   "metadata": {},
   "outputs": [],
   "source": []
  }
 ],
 "metadata": {
  "kernelspec": {
   "display_name": "Python 3",
   "language": "python",
   "name": "python3"
  },
  "language_info": {
   "codemirror_mode": {
    "name": "ipython",
    "version": 3
   },
   "file_extension": ".py",
   "mimetype": "text/x-python",
   "name": "python",
   "nbconvert_exporter": "python",
   "pygments_lexer": "ipython3",
   "version": "3.11.8"
  }
 },
 "nbformat": 4,
 "nbformat_minor": 2
}
