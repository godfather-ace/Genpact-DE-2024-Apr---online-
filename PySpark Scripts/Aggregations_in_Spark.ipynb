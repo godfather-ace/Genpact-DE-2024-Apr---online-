{
 "cells": [
  {
   "cell_type": "markdown",
   "metadata": {},
   "source": [
    "### Loading Spark"
   ]
  },
  {
   "cell_type": "code",
   "execution_count": 1,
   "metadata": {},
   "outputs": [],
   "source": [
    "from pyspark import SparkContext, SparkConf\n",
    "from pyspark.sql import SparkSession\n",
    "sc = SparkContext()\n",
    "spark = SparkSession(sparkContext = sc)"
   ]
  },
  {
   "cell_type": "markdown",
   "metadata": {},
   "source": [
    "### Aggregations in Spark"
   ]
  },
  {
   "cell_type": "markdown",
   "metadata": {},
   "source": [
    "#### aggregate(zeroValue, seqOp, combOp) "
   ]
  },
  {
   "cell_type": "code",
   "execution_count": 11,
   "metadata": {},
   "outputs": [
    {
     "data": {
      "text/plain": [
       "[Row(Customer_Age=45, Credit_Limit=12691.0),\n",
       " Row(Customer_Age=49, Credit_Limit=8256.0),\n",
       " Row(Customer_Age=51, Credit_Limit=3418.0),\n",
       " Row(Customer_Age=40, Credit_Limit=3313.0),\n",
       " Row(Customer_Age=40, Credit_Limit=4716.0)]"
      ]
     },
     "execution_count": 11,
     "metadata": {},
     "output_type": "execute_result"
    }
   ],
   "source": [
    "spark_df = spark.read.csv(path = 'BankChurners.csv',  \n",
    "                                  header = True, \n",
    "                                  inferSchema = True, \n",
    "                                  ).select('Customer_Age', 'Credit_Limit')\n",
    "spark_df.take(5)"
   ]
  },
  {
   "cell_type": "code",
   "execution_count": 12,
   "metadata": {},
   "outputs": [
    {
     "name": "stdout",
     "output_type": "stream",
     "text": [
      "Customer Age Mean is:  46.325960304137524 \n",
      " Credit Limit Mean is:  8631.953698035026\n"
     ]
    }
   ],
   "source": [
    "customer_age_mean = spark_df.select('Customer_Age').rdd.map(lambda x: x[0]).mean()\n",
    "credit_limit_mean = spark_df.select('Credit_Limit').rdd.map(lambda x: x[0]).mean()\n",
    "print('Customer Age Mean is: ', customer_age_mean, '\\n', 'Credit Limit Mean is: ', credit_limit_mean)"
   ]
  },
  {
   "cell_type": "markdown",
   "metadata": {},
   "source": [
    "#### Building zeroValue, seqOp, combOp for aggregate function"
   ]
  },
  {
   "cell_type": "code",
   "execution_count": 13,
   "metadata": {},
   "outputs": [
    {
     "data": {
      "text/plain": [
       "(650791.0050360541, 836466948462.1321)"
      ]
     },
     "execution_count": 13,
     "metadata": {},
     "output_type": "execute_result"
    }
   ],
   "source": [
    "zeroValue = (0, 0)\n",
    "seqOp = lambda z, x: (z[0] + (x[0] - customer_age_mean) ** 2, z[1] + (x[1] - credit_limit_mean) ** 2)\n",
    "combOp = lambda px, py: (px[0] + py[0], px[1] + py[1])\n",
    "spark_df.rdd.aggregate(zeroValue, seqOp, combOp)"
   ]
  },
  {
   "cell_type": "code",
   "execution_count": 25,
   "metadata": {},
   "outputs": [
    {
     "data": {
      "text/plain": [
       "['sepal.length,sepal.width,petal.length,petal.width,species',\n",
       " '5.1,3.5,1.4,.2,Setosa',\n",
       " '4.9,3,1.4,.2,Setosa',\n",
       " '4.7,3.2,1.3,.2,Setosa',\n",
       " '4.6,3.1,1.5,.2,Setosa']"
      ]
     },
     "execution_count": 25,
     "metadata": {},
     "output_type": "execute_result"
    }
   ],
   "source": [
    "spark_df = sc.textFile('iris.csv', use_unicode = True)\n",
    "spark_df.take(5)"
   ]
  },
  {
   "cell_type": "code",
   "execution_count": 26,
   "metadata": {},
   "outputs": [
    {
     "data": {
      "text/plain": [
       "[('Setosa', [5.1, 3.5, 1.4, 0.2]),\n",
       " ('Setosa', [4.9, 3.0, 1.4, 0.2]),\n",
       " ('Setosa', [4.7, 3.2, 1.3, 0.2]),\n",
       " ('Setosa', [4.6, 3.1, 1.5, 0.2]),\n",
       " ('Setosa', [5.0, 3.6, 1.4, 0.2])]"
      ]
     },
     "execution_count": 26,
     "metadata": {},
     "output_type": "execute_result"
    }
   ],
   "source": [
    "spark_df_rdd = spark_df.map(lambda x: x.split(',')).\\\n",
    "                    filter(lambda x: x[0] != 'sepal.length').\\\n",
    "                    map(lambda x: (x[-1], [*map(float, x[:-1])]))\n",
    "spark_df_rdd.take(5)"
   ]
  },
  {
   "cell_type": "code",
   "execution_count": 30,
   "metadata": {},
   "outputs": [
    {
     "data": {
      "text/plain": [
       "[('Versicolor', (296.8, 138.5)),\n",
       " ('Virginica', (329.3999999999999, 148.7)),\n",
       " ('Setosa', (250.29999999999998, 171.40000000000003))]"
      ]
     },
     "execution_count": 30,
     "metadata": {},
     "output_type": "execute_result"
    }
   ],
   "source": [
    "zeroValue = (0, 0)\n",
    "seqOp = (lambda x, y: (x[0] + y[0], x[1] + y[1]))\n",
    "combOp = (lambda x, y: (x[0] + y[0], x[1] + y[1]))\n",
    "spark_df_rdd.aggregateByKey(zeroValue, seqOp, combOp).collect()"
   ]
  },
  {
   "cell_type": "code",
   "execution_count": null,
   "metadata": {},
   "outputs": [],
   "source": []
  }
 ],
 "metadata": {
  "kernelspec": {
   "display_name": "Python 3",
   "language": "python",
   "name": "python3"
  },
  "language_info": {
   "codemirror_mode": {
    "name": "ipython",
    "version": 3
   },
   "file_extension": ".py",
   "mimetype": "text/x-python",
   "name": "python",
   "nbconvert_exporter": "python",
   "pygments_lexer": "ipython3",
   "version": "3.11.8"
  }
 },
 "nbformat": 4,
 "nbformat_minor": 2
}
