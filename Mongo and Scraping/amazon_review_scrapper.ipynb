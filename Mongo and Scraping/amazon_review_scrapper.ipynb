{
 "cells": [
  {
   "cell_type": "markdown",
   "metadata": {},
   "source": [
    "### Importing libraries and declaring headers"
   ]
  },
  {
   "cell_type": "code",
   "execution_count": 6,
   "metadata": {},
   "outputs": [],
   "source": [
    "import requests\n",
    "from bs4 import BeautifulSoup\n",
    "import pandas as pd\n",
    "\n",
    "headers = {'Accept-Language': 'en-GB,en;q=0.9,en-US;q=0.8',\n",
    "            'Accept-Encoding': 'gzip, deflate, br',\n",
    "            'User-Agent': 'Mozilla/5.0 (Windows NT 10.0; Win64; x64) AppleWebKit/537.36 (KHTML, like Gecko) Chrome/107.0.0.0 '\n",
    "            'Safari/537.36 Edg/107.0.1418.62',\n",
    "            'Connection': 'keep-alive',\n",
    "           }"
   ]
  },
  {
   "cell_type": "markdown",
   "metadata": {},
   "source": [
    "### Defining soup and accessing the webpage"
   ]
  },
  {
   "cell_type": "code",
   "execution_count": 7,
   "metadata": {},
   "outputs": [],
   "source": [
    "def get_soup(url):\n",
    "    response = requests.get(url, headers = headers)\n",
    "    if response.status_code !=200: \n",
    "        print(\"Error in accessing webpage\")\n",
    "        exit(-1)\n",
    "    \n",
    "    soup = BeautifulSoup(response.text, \"lxml\")\n",
    "    return soup"
   ]
  },
  {
   "cell_type": "markdown",
   "metadata": {},
   "source": [
    "### Using soup to find the following from Amazon reviews: \n",
    "#### Author name, Rating, Title, Content, Date, Verified, Image Source "
   ]
  },
  {
   "cell_type": "code",
   "execution_count": 8,
   "metadata": {},
   "outputs": [],
   "source": [
    "def get_reviews(soup):\n",
    "    review_elements = soup.select(\"div.review\")\n",
    "    scraped_reviews = []\n",
    "    \n",
    "    for review in review_elements:\n",
    "        r_author_element = review.select_one(\"span.a-profile-name\")\n",
    "        r_author = r_author_element.text if r_author_element else None\n",
    "        \n",
    "        r_rating_element = review.select_one(\"i.review-rating\")\n",
    "        r_rating = r_rating_element.text.replace(\"out of 5 stars\", \"\") if r_rating_element else None\n",
    "        \n",
    "        r_title_element = review.select_one(\"a.review-title\")\n",
    "        r_title_span_element = r_title_element.select_one(\"span:not([class])\") if r_title_element else None\n",
    "        r_title = r_title_span_element.text if r_title_span_element else None\n",
    "        \n",
    "        r_content_element = review.select_one(\"span.review-text\")\n",
    "        r_content = r_content_element.text if r_content_element else None\n",
    "        \n",
    "        r_date_element = review.select_one(\"span.review-date\")\n",
    "        r_date = r_date_element.text if r_date_element else None\n",
    "        \n",
    "        r_verified_element = review.select_one(\"span.a-size-mini\")\n",
    "        r_verified = r_verified_element.text if r_verified_element else None\n",
    "        \n",
    "        r_image_element = review.select_one(\"img.review-image-tile\")\n",
    "        r_image = r_image_element.attrs['src'] if r_image_element else None \n",
    "        \n",
    "        r = {\n",
    "            \"author\": r_author,\n",
    "            \"rating\": r_rating, \n",
    "            \"title\": r_title, \n",
    "            \"content\": r_content,\n",
    "            \"date\": r_date, \n",
    "            \"verified\": r_verified, \n",
    "            \"image_url\": r_image \n",
    "        }\n",
    "        \n",
    "        scraped_reviews.append(r)\n",
    "    return scraped_reviews"
   ]
  },
  {
   "cell_type": "markdown",
   "metadata": {},
   "source": [
    "### Providing the URL for extraction pipeline"
   ]
  },
  {
   "cell_type": "code",
   "execution_count": 11,
   "metadata": {},
   "outputs": [],
   "source": [
    "def main(): \n",
    "    search_url = \"https://www.amazon.in/Sony-Ragnarok-Standard-Game-PlayStation/product-reviews/B0B6FGSKCQ/ref=cm_cr_dp_d_show_all_btm?ie=UTF8&reviewerType=all_reviews\"\n",
    "    soup = get_soup(search_url)\n",
    "    acquired_data = get_reviews(soup)\n",
    "    \n",
    "    df = pd.DataFrame(data = acquired_data)\n",
    "    df.to_csv(\"amzn_review.csv\")\n",
    "    \n",
    "if __name__ == \"__main__\": \n",
    "    main()"
   ]
  },
  {
   "cell_type": "code",
   "execution_count": null,
   "metadata": {},
   "outputs": [],
   "source": []
  }
 ],
 "metadata": {
  "kernelspec": {
   "display_name": "Python 3",
   "language": "python",
   "name": "python3"
  },
  "language_info": {
   "codemirror_mode": {
    "name": "ipython",
    "version": 3
   },
   "file_extension": ".py",
   "mimetype": "text/x-python",
   "name": "python",
   "nbconvert_exporter": "python",
   "pygments_lexer": "ipython3",
   "version": "3.11.8"
  }
 },
 "nbformat": 4,
 "nbformat_minor": 2
}
