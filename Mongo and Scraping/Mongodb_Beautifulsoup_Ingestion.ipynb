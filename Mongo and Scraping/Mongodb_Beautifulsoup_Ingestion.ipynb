{
 "cells": [
  {
   "cell_type": "markdown",
   "metadata": {},
   "source": [
    "### Importing libraries"
   ]
  },
  {
   "cell_type": "code",
   "execution_count": 1,
   "metadata": {},
   "outputs": [],
   "source": [
    "import requests\n",
    "from bs4 import BeautifulSoup\n",
    "import pymongo  "
   ]
  },
  {
   "cell_type": "markdown",
   "metadata": {},
   "source": [
    "### Defining the scrapper"
   ]
  },
  {
   "cell_type": "code",
   "execution_count": 2,
   "metadata": {},
   "outputs": [],
   "source": [
    "def scrape_quotes():\n",
    "    more_links = True\n",
    "    page = 1\n",
    "    quotes = []\n",
    "    while(more_links): \n",
    "        markup = requests.get(f'https://quotes.toscrape.com/page/{page}').text\n",
    "        soup = BeautifulSoup(markup, 'html.parser')\n",
    "        for item in soup.select('.quote'): \n",
    "            quote = {}\n",
    "            quote['text'] = item.select_one('.text').get_text()\n",
    "            quote['author'] = item.select_one('.author').get_text()\n",
    "            tags = item.select_one('.tags')\n",
    "            quote['tag'] = [tag.get_text() for tag in tags.select('.tag')]\n",
    "            quotes.append(quote)\n",
    "        next_link = soup.select_one('.next > a')\n",
    "        print(f'scraped page {page}') \n",
    "        if(next_link): \n",
    "            page = page + 1\n",
    "        else: \n",
    "            more_links = False\n",
    "    return quotes"
   ]
  },
  {
   "cell_type": "markdown",
   "metadata": {},
   "source": [
    "### Integrating scrapper with MongoDB Atlas using PyMongo"
   ]
  },
  {
   "cell_type": "code",
   "execution_count": 3,
   "metadata": {},
   "outputs": [
    {
     "name": "stdout",
     "output_type": "stream",
     "text": [
      "scraped page 1\n",
      "scraped page 2\n",
      "scraped page 3\n",
      "scraped page 4\n",
      "scraped page 5\n",
      "scraped page 6\n",
      "scraped page 7\n",
      "scraped page 8\n",
      "scraped page 9\n",
      "scraped page 10\n",
      "Inserted 100 data values\n"
     ]
    }
   ],
   "source": [
    "quotes = scrape_quotes()\n",
    "client = pymongo.MongoClient(\"mongodb+srv://sachintripathi:<password>@cluster0.fi5oqz3.mongodb.net/?retryWrites=true&w=majority\")\n",
    "db = client.db.quotes\n",
    "try: \n",
    "    db.insert_many(quotes)\n",
    "    print(f'Inserted {len(quotes)} data values')\n",
    "except:\n",
    "    print(\"ERROR\") "
   ]
  },
  {
   "cell_type": "code",
   "execution_count": null,
   "metadata": {},
   "outputs": [],
   "source": []
  }
 ],
 "metadata": {
  "kernelspec": {
   "display_name": "Python 3",
   "language": "python",
   "name": "python3"
  },
  "language_info": {
   "codemirror_mode": {
    "name": "ipython",
    "version": 3
   },
   "file_extension": ".py",
   "mimetype": "text/x-python",
   "name": "python",
   "nbconvert_exporter": "python",
   "pygments_lexer": "ipython3",
   "version": "3.11.8"
  }
 },
 "nbformat": 4,
 "nbformat_minor": 2
}
